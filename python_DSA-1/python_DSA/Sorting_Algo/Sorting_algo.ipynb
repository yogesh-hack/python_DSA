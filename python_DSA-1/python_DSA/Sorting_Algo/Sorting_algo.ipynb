{
 "cells": [
  {
   "cell_type": "markdown",
   "metadata": {},
   "source": [
    "### Sorting algorithms in python\n",
    "- Bubble Sorting Algo\n",
    "- Insertion Sorting Algo\n",
    "- Selection Sorting Algo\n",
    "- Merge Sorting Algo\n",
    "- Quick Sorting Algo\n",
    "- Heap Sorting Algo\n"
   ]
  },
  {
   "cell_type": "markdown",
   "metadata": {},
   "source": [
    "#### Bubble Sorting Algo\n",
    "- It Compare each element with the number that follow it.\n",
    "- If number is greater than the one that follow it, swap two number.\n",
    "\n",
    "| 5 | 3 | 1 | 6 | 8 | 7 | 2 | 4 |\n",
    "| - | - | - | - | - | - | - | - |"
   ]
  },
  {
   "cell_type": "markdown",
   "metadata": {},
   "source": [
    "After sorting..\n",
    "\n",
    "| 1 | 2 | 3 | 4 | 5 | 6 | 7 | 8 |\n",
    "| - | - | - | - | - | - | - | - |"
   ]
  },
  {
   "cell_type": "code",
   "execution_count": 4,
   "metadata": {},
   "outputs": [
    {
     "name": "stdout",
     "output_type": "stream",
     "text": [
      "[1, 2, 3, 4, 5, 6, 7, 8]\n",
      "original list :  [4, 59, 1, 2, 9, 4, 4, 3]\n",
      "[1, 2, 3, 4, 4, 4, 9, 59]\n",
      "after sortig list: [1, 2, 3, 4, 4, 4, 9, 59]\n"
     ]
    }
   ],
   "source": [
    "## Bubble Sorting Algo\n",
    "def bubble_sort(array):\n",
    "    # for j in range(len(array)-1):\n",
    "    # j is not used anywhere, so use _\n",
    "    for _ in range(len(array)-1):\n",
    "        for i in range(len(array)-1):\n",
    "            if array[i] > array[i+1]:\n",
    "                array[i], array[i+1] = array[i+1], array[i]\n",
    "    return array\n",
    "\n",
    "print(bubble_sort([5,3,1,6,7,8,2,4]))\n",
    "l = [4,59,1,2,9,4,4,3]\n",
    "print(\"original list : \",l)\n",
    "print(bubble_sort(l))\n",
    "print(\"after sortig list:\",l)\n"
   ]
  },
  {
   "cell_type": "markdown",
   "metadata": {},
   "source": [
    "- its change the original list, so use copy of the original test case."
   ]
  },
  {
   "cell_type": "code",
   "execution_count": 5,
   "metadata": {},
   "outputs": [
    {
     "name": "stdout",
     "output_type": "stream",
     "text": [
      "[1, 2, 3, 4, 5, 6, 7, 8]\n",
      "original list :  [4, 59, 1, 2, 9, 4, 4, 3]\n",
      "[1, 2, 3, 4, 4, 4, 9, 59]\n",
      "after sortig , original list: [4, 59, 1, 2, 9, 4, 4, 3]\n"
     ]
    }
   ],
   "source": [
    "def bubble_sort(array):\n",
    "    # copy of an array\n",
    "    array = list(array)\n",
    "    for _ in range(len(array)-1):\n",
    "        for i in range(len(array)-1):\n",
    "            if array[i] > array[i+1]:\n",
    "                array[i], array[i+1] = array[i+1], array[i]\n",
    "    return array\n",
    "\n",
    "print(bubble_sort([5,3,1,6,7,8,2,4]))\n",
    "l = [4,59,1,2,9,4,4,3]\n",
    "print(\"original list : \",l)\n",
    "print(bubble_sort(l))\n",
    "print(\"after sortig , original list:\",l)"
   ]
  },
  {
   "cell_type": "markdown",
   "metadata": {},
   "source": [
    "#### insertion Sorting algo\n",
    "- It initial portion of an array sorted and insert the remaining elements one by one at the right portion.\n",
    "\n",
    "| 5 | 3 | 1 | 6 | 8 | 7 | 2 | 4 |\n",
    "| - | - | - | - | - | - | - | - |"
   ]
  },
  {
   "cell_type": "markdown",
   "metadata": {},
   "source": [
    "- initial sorted array\n",
    "\n",
    "| 5 |\n",
    "| - |\n",
    "\n",
    "- Unsorted array\n",
    "\n",
    "| 3 | 1 | 6 | 8 | 7 | 2 | 4 |\n",
    "| - | - | - | - | - | - | - |"
   ]
  },
  {
   "cell_type": "code",
   "execution_count": 8,
   "metadata": {},
   "outputs": [
    {
     "data": {
      "text/plain": [
       "[3, 4, 6, 6, 7, 8, 9, 9, 32, 73, 78, 357]"
      ]
     },
     "execution_count": 8,
     "metadata": {},
     "output_type": "execute_result"
    }
   ],
   "source": [
    "def inserton_sort(array):\n",
    "    # copy of an array,\n",
    "    array = list(array)\n",
    "    for i in range(len(array)):\n",
    "        current = array.pop(i)\n",
    "        j = i-1\n",
    "        while j>=0 and array[j] > current:\n",
    "            j -= 1\n",
    "        array.insert(j+1, current)\n",
    "    return array\n",
    "\n",
    "inserton_sort([9,32,6,73,7,357,9,4,3,6,78,8])"
   ]
  },
  {
   "cell_type": "markdown",
   "metadata": {},
   "source": [
    "#### Debugger of above program\n",
    "```\n",
    "array : [32, 6, 73, 7, 357, 9, 4, 3, 6, 78, 8]\n",
    "current : 9\n",
    "i : 0\n",
    "j: -1\n",
    "\n",
    "array : [9,32, 6, 73, 7, 357, 9, 4, 3, 6, 78, 8]\n",
    "i : 1\n",
    "current :32\n",
    "array : [9, 6, 73, 7, 357, 9, 4, 3, 6, 78, 8]\n",
    "j : 0\n",
    "\n",
    "array : [9, 32, 6, 73, 7, 357, 9, 4, 3, 6, 78, 8]\n",
    "i : 2\n",
    "current : 6\n",
    "array : [9, 32, 73, 7, 357, 9, 4, 3, 6, 78, 8]\n",
    "j : 1\n",
    "j : 0\n",
    "j : -1\n",
    "\n",
    "array : [6, 9, 32, 73, 7, 357, 9, 4, 3, 6, 78, 8]\n",
    "i : 3\n",
    "current : 73\n",
    "array : [6, 9, 32, 7, 357, 9, 4, 3, 6, 78, 8]\n",
    "j : 2\n",
    "\n",
    "array : [6, 9, 32, 73, 7, 357, 9, 4, 3, 6, 78, 8]\n",
    "i : 4\n",
    "current : 7\n",
    "array : [6, 9, 32, 73, 357, 9, 4, 3, 6, 78, 8]\n",
    "j : 3\n",
    "j : 2\n",
    "j : 1\n",
    "j : 0\n",
    "\n",
    "array : [6, 7, 9, 32, 73, 357, 9, 4, 3, 6, 78, 8]\n",
    "\n",
    "\n",
    "```\n"
   ]
  },
  {
   "cell_type": "markdown",
   "metadata": {},
   "source": [
    "### Selection sorting Algo\n",
    "\n",
    "| 9 | 32 | 6 | 73 | 7 | 357 | 9 | 4 | 3 | 6 | 78 | 8 |\n",
    "| - | -- | - | -- | - | --- | - | - | - | - | -- | - |\n",
    "\n",
    "\n",
    "- Set the first element as minimum\n",
    "- Compare minimum with the second element. If the second element is smaller than minimum, assign the second element as minimum\n",
    "- For each iteration, indexing starts from the first unsorted element. Step 1 to 3 are repeated until all the elements are placed at their correct positions.\n",
    "\n",
    "| 3 | 4 | 6 | 6 | 7 | 8 | 9 | 9 | 32 | 73 | 78 | 357 |\n",
    "| - | - | - | - | - | - | - | - | -- | -- | -- | --- |"
   ]
  },
  {
   "cell_type": "code",
   "execution_count": 10,
   "metadata": {},
   "outputs": [
    {
     "data": {
      "text/plain": [
       "[3, 4, 6, 6, 7, 8, 9, 9, 32, 73, 78, 357]"
      ]
     },
     "execution_count": 10,
     "metadata": {},
     "output_type": "execute_result"
    }
   ],
   "source": [
    "## selection sorting\n",
    "def selection_sort(array):\n",
    "    # copy of an array\n",
    "    array = list(array)\n",
    "    for i in range(len(array)):\n",
    "        # set a first ith elemernt is minimum\n",
    "        minimum = i\n",
    "    # iterateone more element and check i+1 < i ;\n",
    "    for j in range(i+1):\n",
    "        if array[j] < minimum:\n",
    "            minimum = j\n",
    "    \n",
    "    array[i], array[minimum] = array[minimum], array[i]\n",
    "    return array\n",
    "\n",
    "inserton_sort([9,32,6,73,7,357,9,4,3,6,78,8])\n",
    "    "
   ]
  },
  {
   "cell_type": "markdown",
   "metadata": {},
   "source": [
    "### Merge Sorting Algo\n",
    "- **Use divide and conquer technique**\n",
    "    - Using the Divide and Conquer technique, we divide a problem into subproblems. When the solution to each subproblem is ready, we 'combine' the results from the subproblems to solve the main problem.\n",
    "    ![images](https://www.programiz.com/sites/tutorial2program/files/merge-sort-example_0.png)"
   ]
  },
  {
   "cell_type": "code",
   "execution_count": 18,
   "metadata": {},
   "outputs": [
    {
     "data": {
      "text/plain": [
       "[3, 4, 6, 6, 7, 8, 9, 9, 32, 73, 78, 357]"
      ]
     },
     "execution_count": 18,
     "metadata": {},
     "output_type": "execute_result"
    }
   ],
   "source": [
    "## Merge Sorting\n",
    "\n",
    "def merge_sort(array):\n",
    "    # check at least one element is present in array.\n",
    "    if len(array) > 1:\n",
    "        # mid is place where divide occur into two sub-arrays.\n",
    "        mid = len(array) // 2\n",
    "        ## one that right side sub-array\n",
    "        right = array[mid:]\n",
    "        ## another that left side sub-array\n",
    "        left = array[:mid]\n",
    "\n",
    "        merge_sort(right)\n",
    "        merge_sort(left)\n",
    "\n",
    "        # check which sub-array's element is minimum\n",
    "        i = j = k = 0\n",
    "        \n",
    "        while i < len(left) and j < len(right):\n",
    "            if left[i]  < right[j]:\n",
    "                array[k] = left[i]\n",
    "                i += 1\n",
    "            else:\n",
    "                array[k] = right[j]\n",
    "                j += 1\n",
    "            k += 1\n",
    "        \n",
    "        while i < len(left):\n",
    "            array[k] = left[i]\n",
    "            i += 1\n",
    "            k += 1\n",
    "\n",
    "        while j < len(right):\n",
    "            array[k] = right[j]\n",
    "            j += 1\n",
    "            k += 1\n",
    "\n",
    "    return array\n",
    "\n",
    "merge_sort([9,32,6,73,7,357,9,4,3,6,78,8])\n"
   ]
  },
  {
   "cell_type": "markdown",
   "metadata": {},
   "source": [
    "### Merge sort using recusion"
   ]
  },
  {
   "cell_type": "code",
   "execution_count": 2,
   "metadata": {},
   "outputs": [
    {
     "name": "stdout",
     "output_type": "stream",
     "text": [
      "merge_sort: [2, 4, 6, 8, 44, 3, 5, 6]\n",
      "merge_sort: [2, 4, 6, 8]\n",
      "merge_sort: [2, 4]\n",
      "merge_sort: [2]\n",
      "merge_sort: [4]\n",
      "merge: [2] [4]\n",
      "merge_sort: [6, 8]\n",
      "merge_sort: [6]\n",
      "merge_sort: [8]\n",
      "merge: [6] [8]\n",
      "merge: [2, 4] [6, 8]\n",
      "merge_sort: [44, 3, 5, 6]\n",
      "merge_sort: [44, 3]\n",
      "merge_sort: [44]\n",
      "merge_sort: [3]\n",
      "merge: [44] [3]\n",
      "merge_sort: [5, 6]\n",
      "merge_sort: [5]\n",
      "merge_sort: [6]\n",
      "merge: [5] [6]\n",
      "merge: [3, 44] [5, 6]\n",
      "merge: [2, 4, 6, 8] [3, 5, 6, 44]\n",
      "[2, 3, 4, 5, 6, 6, 8, 44]\n"
     ]
    }
   ],
   "source": [
    "def merged(left, right):\n",
    "    print('merge:',left,right)\n",
    "    i, j ,merge = 0, 0, []\n",
    "    while i< len(left) and j<len(right):\n",
    "        if left[i] <= right[j]:\n",
    "            merge.append(left[i])\n",
    "            i += 1\n",
    "        else:\n",
    "            merge.append(right[j])\n",
    "            j += 1\n",
    "    return merge + left[i:] + right[j:]\n",
    "\n",
    "def merged_sort(array):\n",
    "    print('merge_sort:', array)\n",
    "    if len(array) < 2:\n",
    "        return array\n",
    "    mid = len(array)//2\n",
    "    return merged(merged_sort(array[:mid]),merged_sort(array[mid:]))\n",
    "\n",
    "print(merged_sort([2,4,6,8,44,3,5,6]))"
   ]
  },
  {
   "cell_type": "markdown",
   "metadata": {},
   "source": [
    "## Quick Sort algo\n",
    "\n",
    "- Using divide and conquer technique, Two pointer help to sorting the array using pivot element.\n",
    "- Its is used to optamize the Space complexity.\n",
    "\n",
    "\n"
   ]
  },
  {
   "cell_type": "code",
   "execution_count": 6,
   "metadata": {},
   "outputs": [],
   "source": [
    "def partition(array,start=0,end=None):\n",
    "    print('partition','array:',array,'start:',start,'end:',end)\n",
    "    if end is None:\n",
    "        end = len(array)-1\n",
    "\n",
    "    # initialize left and right pointer\n",
    "    # Last index of an array is pivot i.e { pivot => end }\n",
    "    left, right = start, end-1\n",
    "\n",
    "    while right > left :\n",
    "        print(' ',array,left,right)\n",
    "        # if value is smaller or equal than last element(pivot) then, increment left pointer.\n",
    "        if array[left] <= array[end]:\n",
    "            left += 1\n",
    "        # if  value is smaller or equal than last element(pivot) then, decrement right pointer.\n",
    "        elif array[right] > array[end]:\n",
    "            right -= 1\n",
    "        # if left pointer and right pointer is out-of-place, then swap with left and right\n",
    "        else:\n",
    "            array[left],array[right] = array[right],array[left]\n",
    "    print(' ',array,left,right)\n",
    "    # placed the pivot element between left and right\n",
    "    if array[left] > array[end]:\n",
    "        array[left],array[end] = array[end],array[left]\n",
    "        print(array,'pivot:',left)\n",
    "        return left\n",
    "    else:\n",
    "        print(array,'pivot:',end)\n",
    "        return end"
   ]
  },
  {
   "cell_type": "code",
   "execution_count": 7,
   "metadata": {},
   "outputs": [
    {
     "name": "stdout",
     "output_type": "stream",
     "text": [
      "partition array: [1, 5, 2, 6, 9, 11, 3, 8, 20, 12] start: 0 end: None\n",
      "  [1, 5, 2, 6, 9, 11, 3, 8, 20, 12] 0 8\n",
      "  [1, 5, 2, 6, 9, 11, 3, 8, 20, 12] 1 8\n",
      "  [1, 5, 2, 6, 9, 11, 3, 8, 20, 12] 2 8\n",
      "  [1, 5, 2, 6, 9, 11, 3, 8, 20, 12] 3 8\n",
      "  [1, 5, 2, 6, 9, 11, 3, 8, 20, 12] 4 8\n",
      "  [1, 5, 2, 6, 9, 11, 3, 8, 20, 12] 5 8\n",
      "  [1, 5, 2, 6, 9, 11, 3, 8, 20, 12] 6 8\n",
      "  [1, 5, 2, 6, 9, 11, 3, 8, 20, 12] 7 8\n",
      "  [1, 5, 2, 6, 9, 11, 3, 8, 20, 12] 8 8\n",
      "[1, 5, 2, 6, 9, 11, 3, 8, 12, 20] pivot: 8\n"
     ]
    },
    {
     "data": {
      "text/plain": [
       "8"
      ]
     },
     "execution_count": 7,
     "metadata": {},
     "output_type": "execute_result"
    }
   ],
   "source": [
    "partition([1,5,2,6,9,11,3,8,20,12])"
   ]
  },
  {
   "cell_type": "code",
   "execution_count": 8,
   "metadata": {},
   "outputs": [],
   "source": [
    "def quick_sort(array,start =0, end=None):\n",
    "    if end is None:\n",
    "        # copy of an original array\n",
    "        # array = list(array)\n",
    "        end = len(array)-1\n",
    "\n",
    "    # if len(array) <= 1:\n",
    "    if start >= end:\n",
    "        return array\n",
    "\n",
    "    pivot = partition(array,start,end)\n",
    "    # quick_sort(array[:pivot-1])  -> it makes copy\n",
    "    # quick_sort(array[pivot+1:])  -> to avoid this, take start and end arguemnt\n",
    "    quick_sort(array,start,pivot-1)\n",
    "    quick_sort(array,pivot+1,end)\n",
    "    return array"
   ]
  },
  {
   "cell_type": "code",
   "execution_count": 9,
   "metadata": {},
   "outputs": [
    {
     "name": "stdout",
     "output_type": "stream",
     "text": [
      "partition array: [1, 5, 2, 6, 9, 11, 3, 8, 20, 12] start: 0 end: 9\n",
      "  [1, 5, 2, 6, 9, 11, 3, 8, 20, 12] 0 8\n",
      "  [1, 5, 2, 6, 9, 11, 3, 8, 20, 12] 1 8\n",
      "  [1, 5, 2, 6, 9, 11, 3, 8, 20, 12] 2 8\n",
      "  [1, 5, 2, 6, 9, 11, 3, 8, 20, 12] 3 8\n",
      "  [1, 5, 2, 6, 9, 11, 3, 8, 20, 12] 4 8\n",
      "  [1, 5, 2, 6, 9, 11, 3, 8, 20, 12] 5 8\n",
      "  [1, 5, 2, 6, 9, 11, 3, 8, 20, 12] 6 8\n",
      "  [1, 5, 2, 6, 9, 11, 3, 8, 20, 12] 7 8\n",
      "  [1, 5, 2, 6, 9, 11, 3, 8, 20, 12] 8 8\n",
      "[1, 5, 2, 6, 9, 11, 3, 8, 12, 20] pivot: 8\n",
      "partition array: [1, 5, 2, 6, 9, 11, 3, 8, 12, 20] start: 0 end: 7\n",
      "  [1, 5, 2, 6, 9, 11, 3, 8, 12, 20] 0 6\n",
      "  [1, 5, 2, 6, 9, 11, 3, 8, 12, 20] 1 6\n",
      "  [1, 5, 2, 6, 9, 11, 3, 8, 12, 20] 2 6\n",
      "  [1, 5, 2, 6, 9, 11, 3, 8, 12, 20] 3 6\n",
      "  [1, 5, 2, 6, 9, 11, 3, 8, 12, 20] 4 6\n",
      "  [1, 5, 2, 6, 3, 11, 9, 8, 12, 20] 4 6\n",
      "  [1, 5, 2, 6, 3, 11, 9, 8, 12, 20] 5 6\n",
      "  [1, 5, 2, 6, 3, 11, 9, 8, 12, 20] 5 5\n",
      "[1, 5, 2, 6, 3, 8, 9, 11, 12, 20] pivot: 5\n",
      "partition array: [1, 5, 2, 6, 3, 8, 9, 11, 12, 20] start: 0 end: 4\n",
      "  [1, 5, 2, 6, 3, 8, 9, 11, 12, 20] 0 3\n",
      "  [1, 5, 2, 6, 3, 8, 9, 11, 12, 20] 1 3\n",
      "  [1, 5, 2, 6, 3, 8, 9, 11, 12, 20] 1 2\n",
      "  [1, 2, 5, 6, 3, 8, 9, 11, 12, 20] 1 2\n",
      "  [1, 2, 5, 6, 3, 8, 9, 11, 12, 20] 2 2\n",
      "[1, 2, 3, 6, 5, 8, 9, 11, 12, 20] pivot: 2\n",
      "partition array: [1, 2, 3, 6, 5, 8, 9, 11, 12, 20] start: 0 end: 1\n",
      "  [1, 2, 3, 6, 5, 8, 9, 11, 12, 20] 0 0\n",
      "[1, 2, 3, 6, 5, 8, 9, 11, 12, 20] pivot: 1\n",
      "partition array: [1, 2, 3, 6, 5, 8, 9, 11, 12, 20] start: 3 end: 4\n",
      "  [1, 2, 3, 6, 5, 8, 9, 11, 12, 20] 3 3\n",
      "[1, 2, 3, 5, 6, 8, 9, 11, 12, 20] pivot: 3\n",
      "partition array: [1, 2, 3, 5, 6, 8, 9, 11, 12, 20] start: 6 end: 7\n",
      "  [1, 2, 3, 5, 6, 8, 9, 11, 12, 20] 6 6\n",
      "[1, 2, 3, 5, 6, 8, 9, 11, 12, 20] pivot: 7\n"
     ]
    },
    {
     "data": {
      "text/plain": [
       "[1, 2, 3, 5, 6, 8, 9, 11, 12, 20]"
      ]
     },
     "execution_count": 9,
     "metadata": {},
     "output_type": "execute_result"
    }
   ],
   "source": [
    "quick_sort([1, 5, 2, 6, 9, 11, 3, 8, 20, 12])"
   ]
  },
  {
   "cell_type": "markdown",
   "metadata": {},
   "source": [
    "## Sort in objects\n",
    "- Object is an instance of class.\n",
    "- "
   ]
  },
  {
   "cell_type": "code",
   "execution_count": 25,
   "metadata": {},
   "outputs": [],
   "source": [
    "class Notebooks:\n",
    "    # Default constructor\n",
    "    def __init__(self,title,authors,likes) -> None:\n",
    "        self.title, self.authors, self.likes = title, authors, likes\n",
    "\n",
    "    def __repr__(self) -> str:\n",
    "        return 'notebook <\"{}/{}\", {} likes>'.format(self.authors, self.title,self.likes)\n",
    "\n",
    "# Create soe sample object(notebooks)\n",
    "\n",
    "nb0 = Notebooks('python','Yogesh',1000)\n",
    "nb1 = Notebooks('pytorch','sumitra',200)\n",
    "nb2 = Notebooks('advanced python','rohan',100)\n",
    "nb3 = Notebooks('graphics c++','arora',60)\n",
    "nb4 = Notebooks('c++','vikas',900)\n",
    "nb5 = Notebooks('java-fundamnetal','yash',300)\n",
    "nb6 = Notebooks('java-core','abhishek',100)\n",
    "nb7 = Notebooks('machine-learning','jacobin',20)\n",
    "nb8 = Notebooks('deep learning','shiv',800)\n",
    "nb9 = Notebooks('AI','Mayank',500)\n",
    "\n",
    "notebooks = [nb0,nb1,nb2,nb3,nb4,nb5,nb6,nb7,nb8,nb9]"
   ]
  },
  {
   "cell_type": "code",
   "execution_count": 26,
   "metadata": {},
   "outputs": [
    {
     "data": {
      "text/plain": [
       "[notebook <\"Yogesh/python\", 1000 likes>,\n",
       " notebook <\"sumitra/pytorch\", 200 likes>,\n",
       " notebook <\"rohan/advanced python\", 100 likes>,\n",
       " notebook <\"arora/graphics c++\", 60 likes>,\n",
       " notebook <\"vikas/c++\", 900 likes>,\n",
       " notebook <\"yash/java-fundamnetal\", 300 likes>,\n",
       " notebook <\"abhishek/java-core\", 100 likes>,\n",
       " notebook <\"jacobin/machine-learning\", 20 likes>,\n",
       " notebook <\"shiv/deep learning\", 800 likes>,\n",
       " notebook <\"Mayank/AI\", 500 likes>]"
      ]
     },
     "execution_count": 26,
     "metadata": {},
     "output_type": "execute_result"
    }
   ],
   "source": [
    "notebooks"
   ]
  },
  {
   "cell_type": "code",
   "execution_count": 27,
   "metadata": {},
   "outputs": [],
   "source": [
    "## ++++++++++++++ SOLUTION +++++++++++++++++++++\n",
    "\n",
    "## Custom camparision function for notebook likes\n",
    "\n",
    "def compare_likes(nb0,nb1):\n",
    "    if nb0.likes > nb1.likes:\n",
    "        return \"lesser\"\n",
    "    elif nb0.likes == nb1.likes:\n",
    "        return \"Equal\"\n",
    "    elif nb0.likes < nb1.likes:\n",
    "        return \"Greater\"\n",
    "\n",
    "# Custom campare function\n",
    "def default_campare(x, y):\n",
    "    if x > y:\n",
    "        return \"less\"\n",
    "    elif x == y:\n",
    "        return \"Equal\"\n",
    "    else:\n",
    "        return \"greater\"\n",
    "\n",
    "# Merge Sort algo\n",
    "def merge_sort(object, campare = default_campare):\n",
    "    if len(object) <=1 :\n",
    "        return object\n",
    "    mid = len(object)//2\n",
    "    return merge(merge_sort(object[:mid],campare),merge_sort(object[mid:],campare),campare)\n",
    "\n",
    "def merge(left , right, campare):\n",
    "    i ,j ,merged = 0 ,0 ,[]\n",
    "    while i < len(left) and j < len(right):\n",
    "        result = campare(left[i],right[j])\n",
    "        if result  == \"lesser\" or result ==  \"Equal\":\n",
    "            merged.append(left[i])\n",
    "            i += 1\n",
    "        else:\n",
    "            merged.append(right[j])\n",
    "            j += 1\n",
    "    return merged + left[i:] + right[j:]\n",
    "\n",
    "sorted_notebook  = merge_sort(notebooks ,compare_likes)"
   ]
  },
  {
   "cell_type": "code",
   "execution_count": 28,
   "metadata": {},
   "outputs": [
    {
     "data": {
      "text/plain": [
       "[notebook <\"Yogesh/python\", 1000 likes>,\n",
       " notebook <\"vikas/c++\", 900 likes>,\n",
       " notebook <\"shiv/deep learning\", 800 likes>,\n",
       " notebook <\"Mayank/AI\", 500 likes>,\n",
       " notebook <\"yash/java-fundamnetal\", 300 likes>,\n",
       " notebook <\"sumitra/pytorch\", 200 likes>,\n",
       " notebook <\"rohan/advanced python\", 100 likes>,\n",
       " notebook <\"abhishek/java-core\", 100 likes>,\n",
       " notebook <\"arora/graphics c++\", 60 likes>,\n",
       " notebook <\"jacobin/machine-learning\", 20 likes>]"
      ]
     },
     "execution_count": 28,
     "metadata": {},
     "output_type": "execute_result"
    }
   ],
   "source": [
    "sorted_notebook"
   ]
  },
  {
   "cell_type": "markdown",
   "metadata": {},
   "source": [
    "###### Sort according the notrbook tittle"
   ]
  },
  {
   "cell_type": "code",
   "execution_count": 29,
   "metadata": {},
   "outputs": [],
   "source": [
    "## Custon campare function of ntebook titles(return lexigraphically order)\n",
    "def campare_title(n1 ,n2):\n",
    "    if n1.title <  n2.title:\n",
    "        return 'lesser'\n",
    "    elif n1.title == n2.title :\n",
    "        return 'Equal'\n",
    "    elif n1.title > n2.title:\n",
    "        return 'Greater'"
   ]
  },
  {
   "cell_type": "code",
   "execution_count": 30,
   "metadata": {},
   "outputs": [
    {
     "data": {
      "text/plain": [
       "[notebook <\"Mayank/AI\", 500 likes>,\n",
       " notebook <\"rohan/advanced python\", 100 likes>,\n",
       " notebook <\"vikas/c++\", 900 likes>,\n",
       " notebook <\"shiv/deep learning\", 800 likes>,\n",
       " notebook <\"arora/graphics c++\", 60 likes>,\n",
       " notebook <\"abhishek/java-core\", 100 likes>,\n",
       " notebook <\"yash/java-fundamnetal\", 300 likes>,\n",
       " notebook <\"jacobin/machine-learning\", 20 likes>,\n",
       " notebook <\"Yogesh/python\", 1000 likes>,\n",
       " notebook <\"sumitra/pytorch\", 200 likes>]"
      ]
     },
     "execution_count": 30,
     "metadata": {},
     "output_type": "execute_result"
    }
   ],
   "source": [
    "merge_sort(notebooks, campare_title)"
   ]
  },
  {
   "cell_type": "markdown",
   "metadata": {},
   "source": [
    "## Leetcode Sorting Problem\n",
    "\n",
    "-  Merge Sorted Array\n",
    "\n",
    "You are given two integer arrays nums1 and nums2, sorted in non-decreasing order, and two integers m and n, representing the number of elements in nums1 and nums2 respectively.\n",
    "\n",
    "Merge nums1 and nums2 into a single array sorted in non-decreasing order.\n",
    "\n",
    "The final sorted array should not be returned by the function, but instead be stored inside the array nums1. To accommodate this, nums1 has a length of m + n, where the first m elements denote the elements that should be merged, and the last n elements are set to 0 and should be ignored. nums2 has a length of n.\n",
    "\n",
    "Example 1:\n",
    "\n",
    "Input: nums1 = [1,2,3,0,0,0], m = 3, nums2 = [2,5,6], n = 3\n",
    "Output: [1,2,2,3,5,6]\n",
    "Explanation: The arrays we are merging are [1,2,3] and [2,5,6].\n",
    "The result of the merge is [1,2,2,3,5,6] with the underlined elements coming from nums1.\n",
    "\n",
    "Example 2:\n",
    "Input: nums1 = [1], m = 1, nums2 = [], n = 0\n",
    "Output: [1]\n",
    "Explanation: The arrays we are merging are [1] and [].\n",
    "The result of the merge is [1].\n",
    "\n",
    "Example 3:\n",
    "Input: nums1 = [0], m = 0, nums2 = [1], n = 1\n",
    "Output: [1]\n",
    "Explanation: The arrays we are merging are [] and [1].\n",
    "The result of the merge is [1].\n",
    "Note that because m = 0, there are no elements in nums1. The 0 is only there to ensure the merge result can fit in nums1.\n",
    " \n",
    "\n",
    "Constraints:\n",
    "nums1.length == m + n\n",
    "nums2.length == n\n",
    "0 <= m, n <= 200\n",
    "1 <= m + n <= 200\n",
    "-109 <= nums1[i], nums2[j] <= 109\n",
    " \n",
    "\n",
    "Follow up: Can you come up with an algorithm that runs in O(m + n) time?"
   ]
  },
  {
   "cell_type": "code",
   "execution_count": 34,
   "metadata": {},
   "outputs": [
    {
     "name": "stdout",
     "output_type": "stream",
     "text": [
      "[1, 2, 2, 3, 5, 6]\n",
      "None\n"
     ]
    }
   ],
   "source": [
    "\n",
    "\"\"\"\n",
    "\n",
    "\"\"\"\n",
    "\n",
    "# +++++++++++++++++++++++++++++++ Solution +++++++++++++++++++++++++++\n",
    "\n",
    "def merge(nums1, m, nums2,n):\n",
    "    \"\"\"\n",
    "    Do not return anything, modify nums1 in-place instead.\n",
    "    \"\"\"\n",
    "    index1 = m-1\n",
    "    index2 = n-1\n",
    "    \n",
    "    new_index = m+n-1\n",
    "    \n",
    "    while index2>=0:\n",
    "        if index1>=0 and nums1[index1] > nums2[index2]:\n",
    "            nums1[new_index] = nums1[index1]\n",
    "            new_index -= 1\n",
    "            index1 -= 1\n",
    "        else:\n",
    "            nums1[new_index]= nums2[index2]\n",
    "            new_index -= 1\n",
    "            index2 -= 1\n",
    "\n",
    "    print(nums1)\n",
    "print(merge([1,2,3,0,0,0], 3, [2,5,6], 3))"
   ]
  },
  {
   "cell_type": "markdown",
   "metadata": {},
   "source": [
    "- Sort color \n",
    "\n",
    "Given an array nums with n objects colored red, white, or blue, sort them in-place so that objects of the same color are adjacent, with the colors in the order red, white, and blue.\n",
    "\n",
    "We will use the integers 0, 1, and 2 to represent the color red, white, and blue, respectively.\n",
    "\n",
    "You must solve this problem without using the library's sort function.\n",
    "\n",
    " \n",
    "\n",
    "Example 1:\n",
    "\n",
    "Input: nums = [2,0,2,1,1,0]\n",
    "Output: [0,0,1,1,2,2]\n",
    "Example 2:\n",
    "\n",
    "Input: nums = [2,0,1]\n",
    "Output: [0,1,2]\n",
    " \n",
    "\n",
    "Constraints:\n",
    "\n",
    "n == nums.length\n",
    "1 <= n <= 300\n",
    "nums[i] is either 0, 1, or 2."
   ]
  },
  {
   "cell_type": "code",
   "execution_count": 42,
   "metadata": {},
   "outputs": [],
   "source": [
    "def sortColors(nums):\n",
    "    red, white, blue = 0, 0, len(nums)-1\n",
    "    \n",
    "    while white <= blue:\n",
    "        if nums[white] == 0:\n",
    "            nums[red], nums[white] = nums[white], nums[red]\n",
    "            white += 1\n",
    "            red += 1\n",
    "        elif nums[white] == 1:\n",
    "            white += 1\n",
    "        else:\n",
    "            nums[white], nums[blue] = nums[blue], nums[white]\n",
    "            blue -= 1\n",
    "    return nums"
   ]
  },
  {
   "cell_type": "code",
   "execution_count": 43,
   "metadata": {},
   "outputs": [
    {
     "name": "stdout",
     "output_type": "stream",
     "text": [
      "Input:  [2, 0, 2, 1, 1, 0]\n",
      "Output:  [0, 0, 1, 1, 2, 2]\n"
     ]
    }
   ],
   "source": [
    "print(\"Input: \", [2,0,2,1,1,0])\n",
    "print('Output: ',sortColors([2,0,2,1,1,0]))\n"
   ]
  },
  {
   "cell_type": "markdown",
   "metadata": {},
   "source": [
    "### Wiggle Sort II\n",
    "\n",
    "Given an integer array nums, reorder it such that nums[0] < nums[1] > nums[2] < nums[3]....\n",
    "\n",
    "You may assume the input array always has a valid answer.\n",
    "\n",
    "Example 1:\n",
    "\n",
    "Input: nums = [1,5,1,1,6,4]\n",
    "Output: [1,6,1,5,1,4]\n",
    "Explanation: [1,4,1,5,1,6] is also accepted.\n",
    "\n",
    "Example 2:\n",
    "Input: nums = [1,3,2,2,3,1]\n",
    "Output: [2,3,1,3,1,2]\n",
    "\n",
    "\n",
    "#### Understanding\n",
    "![images](https://assets.leetcode.com/users/images/6f74b95c-f769-4905-8b15-088e32c4de54_1666600178.2854524.jpeg)"
   ]
  },
  {
   "cell_type": "code",
   "execution_count": 3,
   "metadata": {},
   "outputs": [],
   "source": [
    "def wiggleSort(nums):\n",
    "    #Time -> O(NLogN) Space -> O(N)\n",
    "    new    = sorted(nums)        \n",
    "    middle = marker =(len(nums) - 1) // 2\n",
    "    rear   = len(nums) - 1\n",
    "    index  = 0\n",
    "    \n",
    "    #updating the nums\n",
    "    while middle >=0 and  rear > marker:\n",
    "        \n",
    "        nums[index] = new[middle]\n",
    "        index += 1\n",
    "        \n",
    "        nums[index] = new[rear]            \n",
    "        index += 1\n",
    "        \n",
    "        rear   -= 1\n",
    "        middle -= 1 \n",
    "    \n",
    "    #incase of odd length\n",
    "    while middle >= 0:\n",
    "        \n",
    "        nums[index] = new[middle]\n",
    "        middle  -= 1\n",
    "        index   += 1\n",
    "    return nums"
   ]
  },
  {
   "cell_type": "code",
   "execution_count": 4,
   "metadata": {},
   "outputs": [
    {
     "data": {
      "text/plain": [
       "[2, 3, 1, 3, 1, 2]"
      ]
     },
     "execution_count": 4,
     "metadata": {},
     "output_type": "execute_result"
    }
   ],
   "source": [
    "wiggleSort([1,3,2,2,3,1])"
   ]
  },
  {
   "cell_type": "code",
   "execution_count": 1,
   "metadata": {},
   "outputs": [],
   "source": [
    "## Using list Manipulation.....\n",
    "def wiggleSort(nums):\n",
    "        nums.sort()\n",
    "        half = len(nums[::2])\n",
    "        nums[::2], nums[1::2] = nums[:half][::-1], nums[half:][::-1]\n",
    "        return nums        "
   ]
  },
  {
   "cell_type": "code",
   "execution_count": 2,
   "metadata": {},
   "outputs": [
    {
     "data": {
      "text/plain": [
       "[2, 3, 1, 3, 1, 2]"
      ]
     },
     "execution_count": 2,
     "metadata": {},
     "output_type": "execute_result"
    }
   ],
   "source": [
    "wiggleSort([1,3,2,2,3,1])"
   ]
  },
  {
   "cell_type": "code",
   "execution_count": null,
   "metadata": {},
   "outputs": [],
   "source": []
  }
 ],
 "metadata": {
  "kernelspec": {
   "display_name": "Python 3.10.6 64-bit",
   "language": "python",
   "name": "python3"
  },
  "language_info": {
   "codemirror_mode": {
    "name": "ipython",
    "version": 3
   },
   "file_extension": ".py",
   "mimetype": "text/x-python",
   "name": "python",
   "nbconvert_exporter": "python",
   "pygments_lexer": "ipython3",
   "version": "3.10.6"
  },
  "orig_nbformat": 4,
  "vscode": {
   "interpreter": {
    "hash": "c90c9480c5bafb3815344bd414317538d8e52c310f0689b3bfb382c8cadb2358"
   }
  }
 },
 "nbformat": 4,
 "nbformat_minor": 2
}
