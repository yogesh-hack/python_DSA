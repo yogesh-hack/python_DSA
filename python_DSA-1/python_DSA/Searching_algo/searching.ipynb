{
 "cells": [
  {
   "cell_type": "markdown",
   "metadata": {},
   "source": [
    "## Searching in python\n",
    "*Different way of searching*\n",
    "- Linear Searching\n",
    "- Binary Searching"
   ]
  },
  {
   "cell_type": "markdown",
   "metadata": {},
   "source": [
    "Linear search technique has complexity O(N)."
   ]
  },
  {
   "cell_type": "code",
   "execution_count": 8,
   "metadata": {},
   "outputs": [
    {
     "name": "stdout",
     "output_type": "stream",
     "text": [
      "output ->  3\n",
      "output ->  array is empty.\n",
      "output ->  1\n"
     ]
    }
   ],
   "source": [
    "## Linear searching program\n",
    "def linear_search(array,target):\n",
    "    position = 0\n",
    "    #while True:\n",
    "    while position < len(array): # it use for if array is empty.\n",
    "        if array[position] == target:\n",
    "            return position+1;\n",
    "        else:\n",
    "            position += 1\n",
    "        if position == len(array):\n",
    "            return \"Not exist.\"\n",
    "    return \"array is empty.\"\n",
    "\n",
    "print(\"output -> \",linear_search([5,7,8,2,54,7,35,5,6,2,6,8],8))\n",
    "print(\"output -> \",linear_search([],5))\n",
    "print(\"output -> \",linear_search([5,5,5,5,5,5],5))\n"
   ]
  },
  {
   "cell_type": "code",
   "execution_count": 23,
   "metadata": {},
   "outputs": [
    {
     "name": "stdout",
     "output_type": "stream",
     "text": [
      "Output ->  3\n",
      "Output ->  4\n",
      "Output ->  Not found.\n"
     ]
    }
   ],
   "source": [
    "## Binary Search alogorithms\n",
    "\n",
    "def binary_search(array,target):\n",
    "    low , high = 0,len(array)\n",
    "    while low <= high:\n",
    "        mid = (low+high)//2\n",
    "        mid_number = array[mid]\n",
    "\n",
    "        if mid_number == target:\n",
    "            return mid+1\n",
    "        elif mid_number < target:\n",
    "            # if order of array is decreasing;\n",
    "            high = mid - 1\n",
    "            ## if order f array is increasing;\n",
    "            # low = mid + 1\n",
    "        elif mid_number > target:\n",
    "            # if order of arrray is decraesing\n",
    "            low = mid +1\n",
    "            ## if order of array is increasing\n",
    "            # high = mid - 1\n",
    "    return \"Not found.\"\n",
    "\n",
    "print(\"Output -> \",binary_search([23,12,9,6,3,1],9))\n",
    "print(\"Output -> \",binary_search([12,9,9,9,5,1],9))\n",
    "print(\"Output -> \",binary_search([23,12,9,6,3,3],20))\n",
    "\n"
   ]
  },
  {
   "cell_type": "markdown",
   "metadata": {},
   "source": [
    "* if we find the first occurence so write new function to find first ocurence element*"
   ]
  },
  {
   "cell_type": "code",
   "execution_count": 27,
   "metadata": {},
   "outputs": [
    {
     "name": "stdout",
     "output_type": "stream",
     "text": [
      "1\n",
      "3\n",
      "Not found\n"
     ]
    }
   ],
   "source": [
    "## to find first occurence element\n",
    "def first_search(array, target, mid):\n",
    "    mid_number = array[mid]\n",
    "    if mid_number == target:\n",
    "        if mid-1 >=0 and array[mid-1] == target:\n",
    "            return 'left'\n",
    "        else:\n",
    "            return 'found'\n",
    "    elif mid_number < target:\n",
    "        return 'left'\n",
    "    else:\n",
    "        return 'right'\n",
    "\n",
    "def binary_search(array, target):\n",
    "    low, high = 0, len(array)\n",
    "\n",
    "    while low <= high:\n",
    "        mid = (low+high)//2\n",
    "        result = first_search(array, target, mid)\n",
    "        if result == 'found':\n",
    "            return mid+1\n",
    "        elif result == 'left':\n",
    "            high = mid-1\n",
    "        elif result == 'right':\n",
    "            low = mid +1\n",
    "    return 'Not found'\n",
    "\n",
    "print(binary_search([9,9,9,9,2,1],9))\n",
    "print(binary_search([23,12,9,9,2,1],9))\n",
    "print(binary_search([14,10,10,9,2,1],12))"
   ]
  },
  {
   "cell_type": "markdown",
   "metadata": {},
   "source": [
    "*if we find first and last ocurence element then what to do.*"
   ]
  },
  {
   "cell_type": "code",
   "execution_count": 1,
   "metadata": {},
   "outputs": [
    {
     "name": "stdout",
     "output_type": "stream",
     "text": [
      "3 Not found\n",
      "(3, 5)\n"
     ]
    }
   ],
   "source": [
    "def first_position(array, target):\n",
    "    def condition(mid):\n",
    "        if array[mid] == target:\n",
    "            if mid > 0 and array[mid-1] == target:\n",
    "                return 'left'\n",
    "            else:\n",
    "                return 'found'\n",
    "        elif array[mid] > target:\n",
    "            return 'left'\n",
    "        else:\n",
    "            return 'right'\n",
    "    return binary_search(0,len(array)-1, condition)\n",
    "\n",
    "\n",
    "def last_position(array, target):\n",
    "    def condition(mid):\n",
    "        if array[mid] == target:\n",
    "            if mid < len(array)-1 and array[mid+1] == target:\n",
    "                return 'right'\n",
    "            return 'found'\n",
    "        elif array[mid] > target:\n",
    "            return 'left'\n",
    "        else:\n",
    "            return 'right'\n",
    "    return binary_search(0, len(array)-1, condition)\n",
    "\n",
    "def binary_search(low, high, condition):\n",
    "    while low <= high:\n",
    "        mid = (low+high)//2\n",
    "        result = condition(mid)\n",
    "        if result == 'found':\n",
    "            return mid+1\n",
    "        elif result == 'left':\n",
    "            high = mid -1\n",
    "        elif result == 'right':\n",
    "            low = mid + 1\n",
    "    return 'Not found'\n",
    "\n",
    "def first_and_last(array, target):\n",
    "    return first_position(array,target), last_position(array,target)\n",
    "\n",
    "print(first_and_last([23,12,9,9,9,2],9))"
   ]
  },
  {
   "cell_type": "markdown",
   "metadata": {},
   "source": [
    "## Leetcode searching problems\n",
    "- spot easily by the keywords *sorted* and *finding target*.\n",
    "\n"
   ]
  },
  {
   "cell_type": "markdown",
   "metadata": {},
   "source": []
  },
  {
   "cell_type": "code",
   "execution_count": null,
   "metadata": {},
   "outputs": [],
   "source": []
  }
 ],
 "metadata": {
  "kernelspec": {
   "display_name": "Python 3.10.6 64-bit",
   "language": "python",
   "name": "python3"
  },
  "language_info": {
   "codemirror_mode": {
    "name": "ipython",
    "version": 3
   },
   "file_extension": ".py",
   "mimetype": "text/x-python",
   "name": "python",
   "nbconvert_exporter": "python",
   "pygments_lexer": "ipython3",
   "version": "3.10.6"
  },
  "orig_nbformat": 4,
  "vscode": {
   "interpreter": {
    "hash": "c90c9480c5bafb3815344bd414317538d8e52c310f0689b3bfb382c8cadb2358"
   }
  }
 },
 "nbformat": 4,
 "nbformat_minor": 2
}
